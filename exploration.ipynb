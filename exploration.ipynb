{
 "cells": [
  {
   "cell_type": "markdown",
   "id": "78e604dc-14b1-4037-9ac2-ca8dfb0a1efe",
   "metadata": {},
   "source": [
    "# Node2Vec cell similarity\n",
    "\n",
    "Goal of this exploration is to find out, if [node2vec](https://snap.stanford.edu/node2vec/) algorith could be used to process single cell datasets. We will generate graph of `cell1 -> gene <- gene2` from 10x matrices and train node2vec from it."
   ]
  },
  {
   "cell_type": "code",
   "execution_count": 1,
   "id": "f154eb5f-4884-40d1-a6ee-4e60eff25921",
   "metadata": {},
   "outputs": [
    {
     "name": "stdout",
     "output_type": "stream",
     "text": [
      "/datasets/singlecell/tut/\n"
     ]
    }
   ],
   "source": [
    "import os\n",
    "import scprep\n",
    "download_path = \"/datasets/singlecell/tut/\"\n",
    "import numpy as np\n",
    "print(download_path)"
   ]
  },
  {
   "cell_type": "markdown",
   "id": "6cf23b20-c015-4bf4-b1a8-95396d14fe62",
   "metadata": {},
   "source": [
    "Downloading dataset provided [here](https://data.mendeley.com/datasets/v6n743h5ng/1) and used in [this tutorial](https://www.krishnaswamylab.org/workshop)"
   ]
  },
  {
   "cell_type": "code",
   "execution_count": null,
   "id": "5cdb6adb-b84f-4e94-945d-f385c0e8a538",
   "metadata": {},
   "outputs": [],
   "source": [
    "if not os.path.isdir(os.path.join(download_path, \"scRNAseq\", \"T0_1A\")):\n",
    "    scprep.io.download.download_and_extract_zip(\n",
    "        url=\"https://md-datasets-public-files-prod.s3.eu-west-1.amazonaws.com/\"\n",
    "        \"5739738f-d4dd-49f7-b8d1-5841abdbeb1e\",\n",
    "        destination=download_path)"
   ]
  },
  {
   "cell_type": "markdown",
   "id": "e69e6d37-5f24-4d25-913c-0e775a3e56be",
   "metadata": {},
   "source": [
    "Now, let's list and load data from all subdirs"
   ]
  },
  {
   "cell_type": "code",
   "execution_count": 3,
   "id": "ba4798f3-1d51-4036-927f-74f438eb6357",
   "metadata": {},
   "outputs": [],
   "source": [
    "import glob\n",
    "import pandas as pd\n",
    "\n",
    "dirs = glob.glob(download_path + \"scRNAseq/*\")\n",
    "dfs = []\n",
    "for d in dirs:\n",
    "    dfs.append(scprep.io.load_10X(d, sparse=True, gene_labels='both'))\n",
    "\n",
    "df = pd.concat(dfs)\n",
    "del(dfs)"
   ]
  },
  {
   "cell_type": "markdown",
   "id": "a02c2005-dfae-4176-a272-44be07d0877d",
   "metadata": {},
   "source": [
    "Generate list of cells and genes in format cell 1 - genes 1, 2, 6"
   ]
  },
  {
   "cell_type": "code",
   "execution_count": 55,
   "id": "5b7f68d3-578b-4194-af49-3997c6eed7cd",
   "metadata": {},
   "outputs": [
    {
     "data": {
      "text/plain": [
       "(array([    0,     0,     0, ..., 31160, 31160, 31160]),\n",
       " array([   43,    45,    58, ..., 33661, 33662, 33664]))"
      ]
     },
     "execution_count": 55,
     "metadata": {},
     "output_type": "execute_result"
    }
   ],
   "source": [
    "cells_with_gene = df.values.nonzero()\n",
    "cells_with_gene"
   ]
  },
  {
   "cell_type": "markdown",
   "id": "ad2c695d-c369-434b-8d00-11867e75eeb0",
   "metadata": {},
   "source": [
    "Turn it into edgelist - pandas dataframe with columns like `source`,`target` and `weight` - in our case they'll correspond to `barcodes`, `gene` and `count`"
   ]
  },
  {
   "cell_type": "code",
   "execution_count": 56,
   "id": "ef2a7ee2-0b5e-476b-ba04-680ac1d8016b",
   "metadata": {},
   "outputs": [
    {
     "data": {
      "text/html": [
       "<div>\n",
       "<style scoped>\n",
       "    .dataframe tbody tr th:only-of-type {\n",
       "        vertical-align: middle;\n",
       "    }\n",
       "\n",
       "    .dataframe tbody tr th {\n",
       "        vertical-align: top;\n",
       "    }\n",
       "\n",
       "    .dataframe thead th {\n",
       "        text-align: right;\n",
       "    }\n",
       "</style>\n",
       "<table border=\"1\" class=\"dataframe\">\n",
       "  <thead>\n",
       "    <tr style=\"text-align: right;\">\n",
       "      <th></th>\n",
       "      <th>barcodes</th>\n",
       "      <th>genes</th>\n",
       "      <th>count</th>\n",
       "    </tr>\n",
       "  </thead>\n",
       "  <tbody>\n",
       "    <tr>\n",
       "      <th>0</th>\n",
       "      <td>0</td>\n",
       "      <td>43</td>\n",
       "      <td>1.0</td>\n",
       "    </tr>\n",
       "    <tr>\n",
       "      <th>1</th>\n",
       "      <td>0</td>\n",
       "      <td>45</td>\n",
       "      <td>1.0</td>\n",
       "    </tr>\n",
       "    <tr>\n",
       "      <th>2</th>\n",
       "      <td>0</td>\n",
       "      <td>58</td>\n",
       "      <td>1.0</td>\n",
       "    </tr>\n",
       "    <tr>\n",
       "      <th>3</th>\n",
       "      <td>0</td>\n",
       "      <td>59</td>\n",
       "      <td>1.0</td>\n",
       "    </tr>\n",
       "    <tr>\n",
       "      <th>4</th>\n",
       "      <td>0</td>\n",
       "      <td>60</td>\n",
       "      <td>1.0</td>\n",
       "    </tr>\n",
       "  </tbody>\n",
       "</table>\n",
       "</div>"
      ],
      "text/plain": [
       "   barcodes  genes  count\n",
       "0         0     43    1.0\n",
       "1         0     45    1.0\n",
       "2         0     58    1.0\n",
       "3         0     59    1.0\n",
       "4         0     60    1.0"
      ]
     },
     "execution_count": 56,
     "metadata": {},
     "output_type": "execute_result"
    }
   ],
   "source": [
    "barcodes = df.index\n",
    "genes = df.columns\n",
    "edgelist = pd.DataFrame().from_dict({\"barcodes\": cells_with_gene[0], \"genes\": cells_with_gene[1], \"count\": df.values[cells_with_gene]})\n",
    "edgelist.head()"
   ]
  },
  {
   "cell_type": "code",
   "execution_count": 8,
   "id": "98287d9b-8385-40a2-b350-6895d5ed8934",
   "metadata": {},
   "outputs": [],
   "source": [
    "edgelist = edgelist[edgelist['count'] > 10]  # remove lowest 2stddev of counts"
   ]
  },
  {
   "cell_type": "markdown",
   "id": "da857b3c-07e3-4af8-a6e5-cc743c25da9b",
   "metadata": {},
   "source": [
    "Use [stellargraph](https://github.com/stellargraph/stellargraph) library to generate random walks for node2vec"
   ]
  },
  {
   "cell_type": "code",
   "execution_count": 9,
   "id": "6f9ea224-a819-4d06-bd08-7b23eb7672b3",
   "metadata": {},
   "outputs": [],
   "source": [
    "import stellargraph as sg\n",
    "\n",
    "Gs = sg.StellarGraph(edges=edgelist.rename(columns={\"barcodes\": \"source\", \"genes\": \"target\", \"count\": \"weight\"}))\n",
    "Gs.info()"
   ]
  },
  {
   "cell_type": "markdown",
   "id": "31170051-48d0-4a8e-b906-7dedfb1eba48",
   "metadata": {},
   "source": [
    "Generate random walks with vector length of 55, 10 walks for each cell and `p` and `q` set to incentivise breadth rather than depth in graph walks. This step is by far longest and could be optimized to use multicpu or even GPU"
   ]
  },
  {
   "cell_type": "code",
   "execution_count": 11,
   "id": "7de04631-0696-4b0e-a47c-025ecb8b7e96",
   "metadata": {},
   "outputs": [],
   "source": [
    "from stellargraph.data import BiasedRandomWalk\n",
    "\n",
    "rw = BiasedRandomWalk(Gs)\n",
    "walks = rw.run(nodes=edgelist[\"genes\"].unique(), n=10, length=55, p=2, q=0.5)"
   ]
  },
  {
   "cell_type": "code",
   "execution_count": 57,
   "id": "321f043f-0200-4136-aa5b-b198f29bdd69",
   "metadata": {},
   "outputs": [
    {
     "name": "stdout",
     "output_type": "stream",
     "text": [
      "17150\n",
      "[197, 5971, 28546, 20215, 24922, 6044, 21625, 4766, 1933, 18034, 14381, 9037, 24655, 7200, 13864, 10884, 13367, 11054, 21042, 18740, 15689, 10856, 33480, 15984, 7908, 10314, 13434, 29259, 32176, 14296, 484, 19949, 26699, 20778, 31726, 25144, 5262, 29321, 33654, 17700, 5719, 3624, 16698, 30460, 21035, 26790, 11469, 6348, 30263, 23960, 14381, 17220, 21042, 10255, 7966]\n"
     ]
    }
   ],
   "source": [
    "print(len(walks))\n",
    "print(walks[0])"
   ]
  },
  {
   "cell_type": "markdown",
   "id": "123e5c24-fd43-4f32-b57d-760e27849420",
   "metadata": {},
   "source": [
    "Now, that we have walks, or \"sencences\" from our cells - let's train typical Word2Vec with them"
   ]
  },
  {
   "cell_type": "code",
   "execution_count": 13,
   "id": "75de6fcd-225c-4ecf-a3cb-1478215c68e6",
   "metadata": {},
   "outputs": [],
   "source": [
    "from gensim.models import Word2Vec\n",
    "\n",
    "weighted_model = Word2Vec(\n",
    "    sentences=walks, vector_size=55, window=5, min_count=1, workers=4)\n"
   ]
  },
  {
   "cell_type": "code",
   "execution_count": 14,
   "id": "84041f55-33d1-4615-ad1b-d0a9f5788799",
   "metadata": {},
   "outputs": [
    {
     "data": {
      "text/plain": [
       "(2538358, 2829750)"
      ]
     },
     "execution_count": 14,
     "metadata": {},
     "output_type": "execute_result"
    }
   ],
   "source": [
    "weighted_model.train(walks, total_examples=len(walks), epochs=3)"
   ]
  },
  {
   "cell_type": "markdown",
   "id": "2bb6cfe3-4ba3-4a37-89f0-6eb1abbe9fc8",
   "metadata": {},
   "source": [
    "To find most similar cells, we can use "
   ]
  },
  {
   "cell_type": "code",
   "execution_count": 18,
   "id": "96d50d43-c1a6-433a-a5e9-01bc6ad9b6a7",
   "metadata": {},
   "outputs": [
    {
     "data": {
      "text/plain": [
       "array([  197,   484,   556, ...,  7246, 20807, 26907])"
      ]
     },
     "execution_count": 18,
     "metadata": {},
     "output_type": "execute_result"
    }
   ],
   "source": [
    "edgelist[\"genes\"].unique()"
   ]
  },
  {
   "cell_type": "code",
   "execution_count": 40,
   "id": "1dbc20c5-b413-4a55-87d7-75a048a88fc6",
   "metadata": {},
   "outputs": [
    {
     "data": {
      "text/plain": [
       "[(17050, 0.999372661113739),\n",
       " (10213, 0.999346137046814),\n",
       " (10558, 0.9993376135826111),\n",
       " (5822, 0.9993347525596619),\n",
       " (6536, 0.999327540397644),\n",
       " (6373, 0.9993233680725098),\n",
       " (24147, 0.9993219375610352),\n",
       " (25204, 0.9993113279342651),\n",
       " (8930, 0.9992930293083191),\n",
       " (9187, 0.9992917776107788)]"
      ]
     },
     "execution_count": 40,
     "metadata": {},
     "output_type": "execute_result"
    }
   ],
   "source": [
    "sims = weighted_model.wv.most_similar(7246, topn=10)\n",
    "sims"
   ]
  },
  {
   "cell_type": "code",
   "execution_count": 50,
   "id": "c3dd07d2-402a-4a28-a7ae-b7c6b678f384",
   "metadata": {},
   "outputs": [
    {
     "name": "stdout",
     "output_type": "stream",
     "text": [
      "AGTAGAGACATGAC-1\n"
     ]
    },
    {
     "data": {
      "text/plain": [
       "RPS2 (ENSG00000140988)      79.0\n",
       "MT-CO3 (ENSG00000198938)    69.0\n",
       "RPS18 (ENSG00000231500)     58.0\n",
       "MT-CO1 (ENSG00000198804)    58.0\n",
       "RPL13A (ENSG00000142541)    54.0\n",
       "RPS3A (ENSG00000145425)     50.0\n",
       "TUBA1B (ENSG00000123416)    50.0\n",
       "RPS6 (ENSG00000137154)      50.0\n",
       "RPL15 (ENSG00000174748)     49.0\n",
       "RPLP1 (ENSG00000137818)     48.0\n",
       "RPS19 (ENSG00000105372)     47.0\n",
       "RPL41 (ENSG00000229117)     47.0\n",
       "RPLP0 (ENSG00000089157)     45.0\n",
       "EEF1A1 (ENSG00000156508)    44.0\n",
       "RPL6 (ENSG00000089009)      43.0\n",
       "RPS3 (ENSG00000149273)      41.0\n",
       "RPL13 (ENSG00000167526)     40.0\n",
       "RPL10 (ENSG00000147403)     37.0\n",
       "RPS23 (ENSG00000186468)     36.0\n",
       "RPL12 (ENSG00000197958)     35.0\n",
       "Name: AGTAGAGACATGAC-1, dtype: Sparse[float64, 0.0]"
      ]
     },
     "execution_count": 50,
     "metadata": {},
     "output_type": "execute_result"
    }
   ],
   "source": [
    "cell_id = 7246\n",
    "\n",
    "print(df.index[cell_id])\n",
    "df.iloc[cell_id][df.iloc[cell_id].to_numpy().nonzero()[0]].sort_values(ascending=False).head(20)"
   ]
  },
  {
   "cell_type": "code",
   "execution_count": 51,
   "id": "6d5d9509-714d-4190-a7d9-8d7226527e76",
   "metadata": {},
   "outputs": [
    {
     "name": "stdout",
     "output_type": "stream",
     "text": [
      "TAGTCGGACGAGTT-1\n"
     ]
    },
    {
     "data": {
      "text/plain": [
       "RPS2 (ENSG00000140988)       72.0\n",
       "RPL10 (ENSG00000147403)      63.0\n",
       "RPL15 (ENSG00000174748)      62.0\n",
       "RPL13A (ENSG00000142541)     62.0\n",
       "RPL3 (ENSG00000100316)       60.0\n",
       "GAPDH (ENSG00000111640)      56.0\n",
       "RPS6 (ENSG00000137154)       53.0\n",
       "RPLP0 (ENSG00000089157)      49.0\n",
       "RPL13 (ENSG00000167526)      47.0\n",
       "TUBA1B (ENSG00000123416)     43.0\n",
       "RPS18 (ENSG00000231500)      42.0\n",
       "EEF1A1 (ENSG00000156508)     37.0\n",
       "RPS3 (ENSG00000149273)       36.0\n",
       "RPS19 (ENSG00000105372)      34.0\n",
       "RPS4X (ENSG00000198034)      33.0\n",
       "MALAT1 (ENSG00000251562)     32.0\n",
       "HNRNPA1 (ENSG00000135486)    32.0\n",
       "RPL41 (ENSG00000229117)      31.0\n",
       "RPL7 (ENSG00000147604)       31.0\n",
       "RPL6 (ENSG00000089009)       31.0\n",
       "Name: TAGTCGGACGAGTT-1, dtype: Sparse[float64, 0.0]"
      ]
     },
     "execution_count": 51,
     "metadata": {},
     "output_type": "execute_result"
    }
   ],
   "source": [
    "cell_id = 17050\n",
    "\n",
    "print(df.index[cell_id])\n",
    "df.iloc[cell_id][df.iloc[cell_id].to_numpy().nonzero()[0]].sort_values(ascending=False).head(20)"
   ]
  }
 ],
 "metadata": {
  "kernelspec": {
   "display_name": "Python 3",
   "language": "python",
   "name": "python3"
  },
  "language_info": {
   "codemirror_mode": {
    "name": "ipython",
    "version": 3
   },
   "file_extension": ".py",
   "mimetype": "text/x-python",
   "name": "python",
   "nbconvert_exporter": "python",
   "pygments_lexer": "ipython3",
   "version": "3.8.8"
  }
 },
 "nbformat": 4,
 "nbformat_minor": 5
}
